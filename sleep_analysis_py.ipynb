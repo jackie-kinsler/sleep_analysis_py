{
 "cells": [
  {
   "cell_type": "markdown",
   "id": "d6efc187",
   "metadata": {},
   "source": [
    "# Sleep Analysis\n",
    "Yay! We made it to the analysis.\n",
    "\n",
    "For details on how the data was imported, see `import_data.ipynb`.\n",
    "\n",
    "For details on how the data was cleaned, see `clean_and_explore.ipynb`.  \n"
   ]
  },
  {
   "cell_type": "markdown",
   "id": "89381f58",
   "metadata": {},
   "source": [
    "NOTE: I lost my Fitbit tracker on August 25, 2020, and replaced it November 7, 2020.  \n",
    "**Therefore, there is a gap in the data between 2020-08-24 and 2020-11-06.**"
   ]
  },
  {
   "cell_type": "code",
   "execution_count": 15,
   "id": "a540a628",
   "metadata": {},
   "outputs": [],
   "source": [
    "import pandas as pd\n",
    "import numpy as np \n",
    "import matplotlib.pyplot as plt\n",
    "from sklearn.linear_model import LinearRegression"
   ]
  },
  {
   "cell_type": "markdown",
   "id": "e3803117",
   "metadata": {},
   "source": [
    "Merge into one giant table for easier plotting "
   ]
  },
  {
   "cell_type": "markdown",
   "id": "4794374f",
   "metadata": {},
   "source": [
    "#### Read all of the data in the `cleaned_data/` directory. "
   ]
  },
  {
   "cell_type": "code",
   "execution_count": 108,
   "id": "93eb7441",
   "metadata": {},
   "outputs": [],
   "source": [
    "sleep_score = pd.read_pickle('cleaned_data/sleep_score.pkl')\n",
    "sleep_detail = pd.read_pickle('cleaned_data/sleep_detail.pkl')\n",
    "\n",
    "lightly_active = pd.read_pickle('cleaned_data/lightly_active.pkl')\n",
    "moderately_active = pd.read_pickle('cleaned_data/moderately_active.pkl')\n",
    "very_active = pd.read_pickle('cleaned_data/very_active.pkl')\n",
    "sedentary_minutes = pd.read_pickle('cleaned_data/sedentary_minutes.pkl')\n",
    "\n",
    "step_daily = pd.read_pickle('cleaned_data/step_daily.pkl')\n",
    "\n",
    "bpm = pd.read_pickle('cleaned_data/bpm.pkl')\n",
    "resting_heartrate = pd.read_pickle('cleaned_data/resting_heartrate.pkl')"
   ]
  },
  {
   "cell_type": "code",
   "execution_count": 111,
   "id": "78ed412d",
   "metadata": {},
   "outputs": [],
   "source": [
    "# A list of all the dataframes \n",
    "dfs = [\n",
    "    sleep_score, \n",
    "    sleep_detail, \n",
    "    lightly_active,\n",
    "    moderately_active,\n",
    "    very_active,\n",
    "    sedentary_minutes,\n",
    "    step_daily,\n",
    "    bpm,\n",
    "    resting_heartrate,\n",
    "]"
   ]
  },
  {
   "cell_type": "markdown",
   "id": "4758d79c",
   "metadata": {},
   "source": [
    "## Merge the data into one big table\n",
    "Merge the data using an inner join on the index of all the tables (`date`). \n",
    "\n",
    "Having all the data in the same table will make plotting faster. "
   ]
  },
  {
   "cell_type": "code",
   "execution_count": 112,
   "id": "f188ae8f",
   "metadata": {},
   "outputs": [],
   "source": [
    "daily_stats = pd.concat(dfs, join='inner', axis=1)"
   ]
  },
  {
   "cell_type": "code",
   "execution_count": 115,
   "id": "934086a7",
   "metadata": {
    "scrolled": true
   },
   "outputs": [
    {
     "name": "stdout",
     "output_type": "stream",
     "text": [
      "<class 'pandas.core.frame.DataFrame'>\n",
      "DatetimeIndex: 932 entries, 2019-08-22 to 2022-12-19\n",
      "Data columns (total 18 columns):\n",
      " #   Column                   Non-Null Count  Dtype  \n",
      "---  ------                   --------------  -----  \n",
      " 0   overall_sleep_score      932 non-null    float64\n",
      " 1   sleep_resting_heartrate  932 non-null    float64\n",
      " 2   deep_sleep_in_minutes    932 non-null    int64  \n",
      " 3   minutesAsleep            932 non-null    int64  \n",
      " 4   mainSleep                932 non-null    int64  \n",
      " 5   deep_mins                932 non-null    float64\n",
      " 6   wake_mins                932 non-null    float64\n",
      " 7   light_mins               932 non-null    float64\n",
      " 8   rem_mins                 932 non-null    float64\n",
      " 9   value                    932 non-null    int64  \n",
      " 10  value                    932 non-null    int64  \n",
      " 11  value                    932 non-null    int64  \n",
      " 12  value                    932 non-null    int64  \n",
      " 13  daily_steps              932 non-null    int64  \n",
      " 14  bpm_max                  932 non-null    int64  \n",
      " 15  bpm_mean                 932 non-null    float64\n",
      " 16  resting_hr               932 non-null    float64\n",
      " 17  rest_hr_error            932 non-null    float64\n",
      "dtypes: float64(9), int64(9)\n",
      "memory usage: 138.3 KB\n"
     ]
    }
   ],
   "source": [
    "daily_stats.info()"
   ]
  },
  {
   "cell_type": "markdown",
   "id": "3396a7e7",
   "metadata": {},
   "source": [
    "## Do a quick correlation matrix "
   ]
  },
  {
   "cell_type": "code",
   "execution_count": null,
   "id": "089b45b1",
   "metadata": {},
   "outputs": [],
   "source": []
  }
 ],
 "metadata": {
  "kernelspec": {
   "display_name": "Python 3 (ipykernel)",
   "language": "python",
   "name": "python3"
  },
  "language_info": {
   "codemirror_mode": {
    "name": "ipython",
    "version": 3
   },
   "file_extension": ".py",
   "mimetype": "text/x-python",
   "name": "python",
   "nbconvert_exporter": "python",
   "pygments_lexer": "ipython3",
   "version": "3.9.13"
  }
 },
 "nbformat": 4,
 "nbformat_minor": 5
}
