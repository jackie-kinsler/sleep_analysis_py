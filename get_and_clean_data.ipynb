{
 "cells": [
  {
   "cell_type": "markdown",
   "id": "174afcf4",
   "metadata": {},
   "source": [
    "# Importing Data from Fitbit \n",
    "Fitbit offers an export option for all of a user's data. \n",
    "This data is exported in multiple folders, each containing multiple JSON and .csv files. \n",
    "For this project, I am interested in the following data: \n",
    "- bpm \n",
    "- sleep type (heavy, light, REM) and length of each sleep type\n",
    "- sleep score \n",
    "- step data\n",
    "- active minutes (light, moderate, and very active minutes) \n",
    "- resting heartrate\n",
    "- outside temperature at bedtime (10pm local) \n",
    "\n",
    "Each section has a 2 row sample of the dataframe at the end. \n",
    "\n",
    "The data is all time based. The goal is to reduce all of the data to get a summary for each day. \n",
    "For example, the bpm data is recorded every 5 seconds, and I will reduce it to a daily summary. \n",
    "\n",
    "NOTE: All date / time columns will be converted to datetime datatypes if needed. \n",
    "\n",
    "All of the data is then pickled (as loading from the pickle will be much faster than re-reading the JSON). \n",
    "Resulting files used in the analysis will be: \n",
    "- bpm.pkl \n",
    "- sleep_detail.pkl\n",
    "- sleep_score.pkl\n",
    "- sedentary_minutes.pkl\n",
    "- lightly_active.pkl\n",
    "- moderately_active.pkl\n",
    "- very_active.pkl\n",
    "\n",
    "\n",
    "** When you're all done, make sure each data frame has the expect # rows and the expected datatype\n",
    "Make sure each pickled file exists, and also that its being sourced NOT from the test dir "
   ]
  },
  {
   "cell_type": "code",
   "execution_count": 236,
   "id": "93539940",
   "metadata": {},
   "outputs": [],
   "source": [
    "import os\n",
    "import pandas as pd\n",
    "import numpy as np \n",
    "import datetime as dt "
   ]
  },
  {
   "cell_type": "markdown",
   "id": "617ff9b3",
   "metadata": {},
   "source": [
    "### IMPORT FROM JSON FUNCTION\n",
    "This function will help import and concatenate the many JSON files that compromise each data type "
   ]
  },
  {
   "cell_type": "code",
   "execution_count": 297,
   "id": "ec0ff706",
   "metadata": {},
   "outputs": [],
   "source": [
    "def import_data_from_dir(file_prefix, directory):\n",
    "    \"\"\"Reads JSON file(s) in a folder and returns a single dataframe. \n",
    "    Takes strings of file_prefix and directory as input. \n",
    "    \"\"\"\n",
    "    dfs = []\n",
    "    for file in os.listdir(directory):\n",
    "        if file_prefix in file: \n",
    "            dfs.append(pd.read_json(f\"{directory}/{file}\"))\n",
    "    return pd.concat(dfs)"
   ]
  },
  {
   "cell_type": "markdown",
   "id": "2ce028ae",
   "metadata": {},
   "source": [
    "To do: \n",
    "(1) \n",
    "keep tables separate until I get a daily summary for each activity \n",
    "Tables:\n",
    "-bpm\n",
    "-sleep levels (done)\n",
    "-sleep score (done)\n",
    "-steps\n",
    "-sedentary minutes (done)\n",
    "-lightly active minutes (done)\n",
    "-moderately active minutes (done)\n",
    "-very active minutes (done)\n",
    "-resting heartrate (done)\n",
    "-temperature \n",
    "-etc.?\n",
    "merge all the tables together using date as the primary key \n",
    "daily sleep will be the response variabel \n",
    "everything else will be explanatory variables \n",
    "\n"
   ]
  },
  {
   "cell_type": "markdown",
   "id": "8276907e",
   "metadata": {},
   "source": [
    "### BPM\n",
    "Import the bpm data from JSON. \n",
    "The JSON data contains a date field and a'value' field. \n",
    "The 'value' field contains a dictionary with 'bpm' and 'confidence'. \n",
    "The data is imported, the nested 'value' column is unnested. \n",
    "The index is also reset, as the index values are not unique.\n",
    "\n",
    "The data is taken every 5 seconds. The data will be reduced to get daily values for max_bpm and average_bpm. "
   ]
  },
  {
   "cell_type": "code",
   "execution_count": null,
   "id": "4fd9409e",
   "metadata": {
    "scrolled": true
   },
   "outputs": [],
   "source": [
    "bpm_nested = import_data_from_dir('heart_rate-', '/Users/jackiekinsler/projects/sleep_analysis_py/physical_data/heart_rate')\n",
    "bpm_nested.to_pickle(\"bpm_nested.pkl\")"
   ]
  },
  {
   "cell_type": "code",
   "execution_count": 121,
   "id": "43aac3b3",
   "metadata": {},
   "outputs": [],
   "source": [
    "# Index needs to be reset as there are repeated values\n",
    "bpm_nested.reset_index(inplace = True)"
   ]
  },
  {
   "cell_type": "code",
   "execution_count": 153,
   "id": "a70d36ea",
   "metadata": {},
   "outputs": [],
   "source": [
    "bpm_explode = pd.json_normalize(bpm_nested['value'])"
   ]
  },
  {
   "cell_type": "code",
   "execution_count": 157,
   "id": "b0481a0a",
   "metadata": {},
   "outputs": [],
   "source": [
    "# Here, two columns are brought together: the dateTime column from bpm_nested, \n",
    "# and the two exploded columns (bpm, confidence) that makeup bpm_explode \n",
    "bpm = pd.concat([bpm_nested['dateTime'], bpm_explode], axis = 1)"
   ]
  },
  {
   "cell_type": "code",
   "execution_count": 221,
   "id": "cc827b73",
   "metadata": {
    "scrolled": true
   },
   "outputs": [
    {
     "data": {
      "text/html": [
       "<div>\n",
       "<style scoped>\n",
       "    .dataframe tbody tr th:only-of-type {\n",
       "        vertical-align: middle;\n",
       "    }\n",
       "\n",
       "    .dataframe tbody tr th {\n",
       "        vertical-align: top;\n",
       "    }\n",
       "\n",
       "    .dataframe thead th {\n",
       "        text-align: right;\n",
       "    }\n",
       "</style>\n",
       "<table border=\"1\" class=\"dataframe\">\n",
       "  <thead>\n",
       "    <tr style=\"text-align: right;\">\n",
       "      <th></th>\n",
       "      <th>dateTime</th>\n",
       "      <th>bpm</th>\n",
       "      <th>confidence</th>\n",
       "    </tr>\n",
       "  </thead>\n",
       "  <tbody>\n",
       "    <tr>\n",
       "      <th>0</th>\n",
       "      <td>2022-03-10 08:00:08</td>\n",
       "      <td>54</td>\n",
       "      <td>3</td>\n",
       "    </tr>\n",
       "    <tr>\n",
       "      <th>1</th>\n",
       "      <td>2022-03-10 08:00:13</td>\n",
       "      <td>53</td>\n",
       "      <td>2</td>\n",
       "    </tr>\n",
       "  </tbody>\n",
       "</table>\n",
       "</div>"
      ],
      "text/plain": [
       "             dateTime  bpm  confidence\n",
       "0 2022-03-10 08:00:08   54           3\n",
       "1 2022-03-10 08:00:13   53           2"
      ]
     },
     "execution_count": 221,
     "metadata": {},
     "output_type": "execute_result"
    }
   ],
   "source": [
    "bpm.head(2)"
   ]
  },
  {
   "cell_type": "code",
   "execution_count": 159,
   "id": "b34c70b2",
   "metadata": {},
   "outputs": [],
   "source": [
    "bpm.to_pickle(\"bpm.pkl\")"
   ]
  },
  {
   "cell_type": "markdown",
   "id": "a9e38151",
   "metadata": {},
   "source": [
    "### SLEEP DETAIL\n",
    "Import the detailed sleep data from JSON.  \n",
    "The raw JSON has many columns, but the 'levels' columnn is perhaps the most interesting.  \n",
    "The 'levels' column contains a dictionary of data about the amount of time spent in each sleep type.  \n",
    "Sleep types include deep, wake, light, and REM. \n",
    "\n",
    "The 'levels' column will be unnested and added back to the dataframe.  \n",
    "It is important to note that there may be multiple sleep entries for a given day (for example: if there was a long waking period in the middle of sleeping). "
   ]
  },
  {
   "cell_type": "code",
   "execution_count": null,
   "id": "e3939d32",
   "metadata": {
    "scrolled": true
   },
   "outputs": [],
   "source": [
    "sleep_nested = import_data_from_dir('sleep-', '/Users/jackiekinsler/projects/sleep_analysis_py/physical_data/Sleep')\n",
    "sleep_nested.reset_index(inplace=True, drop=True)"
   ]
  },
  {
   "cell_type": "code",
   "execution_count": 286,
   "id": "74f58797",
   "metadata": {},
   "outputs": [],
   "source": [
    "levels = pd.json_normalize(df_sleep_nested['levels'])"
   ]
  },
  {
   "cell_type": "code",
   "execution_count": 287,
   "id": "8eb0588f",
   "metadata": {},
   "outputs": [],
   "source": [
    "# Here, desired columns from the sleep_nested dataframe and the levels dataframe are combined  \n",
    "sleep_detail = pd.concat([sleep_nested.loc[:,['dateOfSleep','minutesAsleep','mainSleep']], levels.loc[:,'summary.deep.count':'summary.rem.thirtyDayAvgMinutes']], axis = 1)\n",
    "sleep_detail['dateOfSleep'] = pd.to_datetime(sleep_detail['dateOfSleep'])\n",
    "sleep_detail.to_pickle(\"sleep_detail.pkl\")"
   ]
  },
  {
   "cell_type": "code",
   "execution_count": 288,
   "id": "d9e62395",
   "metadata": {
    "scrolled": true
   },
   "outputs": [
    {
     "data": {
      "text/html": [
       "<div>\n",
       "<style scoped>\n",
       "    .dataframe tbody tr th:only-of-type {\n",
       "        vertical-align: middle;\n",
       "    }\n",
       "\n",
       "    .dataframe tbody tr th {\n",
       "        vertical-align: top;\n",
       "    }\n",
       "\n",
       "    .dataframe thead th {\n",
       "        text-align: right;\n",
       "    }\n",
       "</style>\n",
       "<table border=\"1\" class=\"dataframe\">\n",
       "  <thead>\n",
       "    <tr style=\"text-align: right;\">\n",
       "      <th></th>\n",
       "      <th>dateOfSleep</th>\n",
       "      <th>minutesAsleep</th>\n",
       "      <th>mainSleep</th>\n",
       "      <th>summary.deep.count</th>\n",
       "      <th>summary.deep.minutes</th>\n",
       "      <th>summary.deep.thirtyDayAvgMinutes</th>\n",
       "      <th>summary.wake.count</th>\n",
       "      <th>summary.wake.minutes</th>\n",
       "      <th>summary.wake.thirtyDayAvgMinutes</th>\n",
       "      <th>summary.light.count</th>\n",
       "      <th>summary.light.minutes</th>\n",
       "      <th>summary.light.thirtyDayAvgMinutes</th>\n",
       "      <th>summary.rem.count</th>\n",
       "      <th>summary.rem.minutes</th>\n",
       "      <th>summary.rem.thirtyDayAvgMinutes</th>\n",
       "    </tr>\n",
       "  </thead>\n",
       "  <tbody>\n",
       "    <tr>\n",
       "      <th>0</th>\n",
       "      <td>2019-05-09</td>\n",
       "      <td>408</td>\n",
       "      <td>True</td>\n",
       "      <td>7.0</td>\n",
       "      <td>77.0</td>\n",
       "      <td>90.0</td>\n",
       "      <td>31.0</td>\n",
       "      <td>74.0</td>\n",
       "      <td>58.0</td>\n",
       "      <td>34.0</td>\n",
       "      <td>288.0</td>\n",
       "      <td>227.0</td>\n",
       "      <td>7.0</td>\n",
       "      <td>57.0</td>\n",
       "      <td>91.0</td>\n",
       "    </tr>\n",
       "    <tr>\n",
       "      <th>1</th>\n",
       "      <td>2019-05-08</td>\n",
       "      <td>423</td>\n",
       "      <td>True</td>\n",
       "      <td>5.0</td>\n",
       "      <td>119.0</td>\n",
       "      <td>89.0</td>\n",
       "      <td>30.0</td>\n",
       "      <td>69.0</td>\n",
       "      <td>58.0</td>\n",
       "      <td>29.0</td>\n",
       "      <td>215.0</td>\n",
       "      <td>227.0</td>\n",
       "      <td>8.0</td>\n",
       "      <td>128.0</td>\n",
       "      <td>89.0</td>\n",
       "    </tr>\n",
       "  </tbody>\n",
       "</table>\n",
       "</div>"
      ],
      "text/plain": [
       "  dateOfSleep  minutesAsleep  mainSleep  summary.deep.count  \\\n",
       "0  2019-05-09            408       True                 7.0   \n",
       "1  2019-05-08            423       True                 5.0   \n",
       "\n",
       "   summary.deep.minutes  summary.deep.thirtyDayAvgMinutes  summary.wake.count  \\\n",
       "0                  77.0                              90.0                31.0   \n",
       "1                 119.0                              89.0                30.0   \n",
       "\n",
       "   summary.wake.minutes  summary.wake.thirtyDayAvgMinutes  \\\n",
       "0                  74.0                              58.0   \n",
       "1                  69.0                              58.0   \n",
       "\n",
       "   summary.light.count  summary.light.minutes  \\\n",
       "0                 34.0                  288.0   \n",
       "1                 29.0                  215.0   \n",
       "\n",
       "   summary.light.thirtyDayAvgMinutes  summary.rem.count  summary.rem.minutes  \\\n",
       "0                              227.0                7.0                 57.0   \n",
       "1                              227.0                8.0                128.0   \n",
       "\n",
       "   summary.rem.thirtyDayAvgMinutes  \n",
       "0                             91.0  \n",
       "1                             89.0  "
      ]
     },
     "execution_count": 288,
     "metadata": {},
     "output_type": "execute_result"
    }
   ],
   "source": [
    "sleep_detail.head(2)"
   ]
  },
  {
   "cell_type": "markdown",
   "id": "a0c69863",
   "metadata": {},
   "source": [
    "### SLEEP SCORE\n",
    "Sleep score is in a .csv with seemingly 1 row per day (need to check this). \n",
    "\n",
    "To understand more about the sleep score: https://help.fitbit.com/articles/en_US/Help_article/2439.htm"
   ]
  },
  {
   "cell_type": "code",
   "execution_count": 276,
   "id": "fac86fae",
   "metadata": {
    "scrolled": true
   },
   "outputs": [],
   "source": [
    "sleep_score = pd.read_csv('/Users/jackiekinsler/projects/sleep_analysis_py/physical_data/Sleep/sleep_score.csv')\n",
    "# Here, the timestamp will be normalized (time set to midnight), time is meaningless here and this will simplify things later\n",
    "sleep_score['timestamp'] = pd.to_datetime(sleep_score['timestamp']).dt.normalize()\n",
    "sleep_score.to_pickle(\"sleep_score.pkl\")"
   ]
  },
  {
   "cell_type": "code",
   "execution_count": 278,
   "id": "8cbabed5",
   "metadata": {},
   "outputs": [
    {
     "data": {
      "text/html": [
       "<div>\n",
       "<style scoped>\n",
       "    .dataframe tbody tr th:only-of-type {\n",
       "        vertical-align: middle;\n",
       "    }\n",
       "\n",
       "    .dataframe tbody tr th {\n",
       "        vertical-align: top;\n",
       "    }\n",
       "\n",
       "    .dataframe thead th {\n",
       "        text-align: right;\n",
       "    }\n",
       "</style>\n",
       "<table border=\"1\" class=\"dataframe\">\n",
       "  <thead>\n",
       "    <tr style=\"text-align: right;\">\n",
       "      <th></th>\n",
       "      <th>sleep_log_entry_id</th>\n",
       "      <th>timestamp</th>\n",
       "      <th>overall_score</th>\n",
       "      <th>composition_score</th>\n",
       "      <th>revitalization_score</th>\n",
       "      <th>duration_score</th>\n",
       "      <th>deep_sleep_in_minutes</th>\n",
       "      <th>resting_heart_rate</th>\n",
       "      <th>restlessness</th>\n",
       "    </tr>\n",
       "  </thead>\n",
       "  <tbody>\n",
       "    <tr>\n",
       "      <th>0</th>\n",
       "      <td>39497287745</td>\n",
       "      <td>2022-12-19 00:00:00+00:00</td>\n",
       "      <td>86</td>\n",
       "      <td>22</td>\n",
       "      <td>22</td>\n",
       "      <td>42</td>\n",
       "      <td>102</td>\n",
       "      <td>53</td>\n",
       "      <td>0.080976</td>\n",
       "    </tr>\n",
       "    <tr>\n",
       "      <th>1</th>\n",
       "      <td>39483974879</td>\n",
       "      <td>2022-12-18 00:00:00+00:00</td>\n",
       "      <td>84</td>\n",
       "      <td>21</td>\n",
       "      <td>21</td>\n",
       "      <td>42</td>\n",
       "      <td>105</td>\n",
       "      <td>53</td>\n",
       "      <td>0.080969</td>\n",
       "    </tr>\n",
       "  </tbody>\n",
       "</table>\n",
       "</div>"
      ],
      "text/plain": [
       "   sleep_log_entry_id                 timestamp  overall_score  \\\n",
       "0         39497287745 2022-12-19 00:00:00+00:00             86   \n",
       "1         39483974879 2022-12-18 00:00:00+00:00             84   \n",
       "\n",
       "   composition_score  revitalization_score  duration_score  \\\n",
       "0                 22                    22              42   \n",
       "1                 21                    21              42   \n",
       "\n",
       "   deep_sleep_in_minutes  resting_heart_rate  restlessness  \n",
       "0                    102                  53      0.080976  \n",
       "1                    105                  53      0.080969  "
      ]
     },
     "execution_count": 278,
     "metadata": {},
     "output_type": "execute_result"
    }
   ],
   "source": [
    "sleep_score.head(2)"
   ]
  },
  {
   "cell_type": "markdown",
   "id": "03c34a41",
   "metadata": {},
   "source": [
    "### STEPS\n",
    "Import steps data from JSON.  \n",
    "Steps data is recorded every few minutes. The number of steps for that period of time is recorded.   \n",
    "The data will be reduced to the total number of steps for each day.   "
   ]
  },
  {
   "cell_type": "code",
   "execution_count": null,
   "id": "3c286fec",
   "metadata": {
    "scrolled": true
   },
   "outputs": [],
   "source": [
    "step_detail = import_data_from_dir('steps-', '/Users/jackiekinsler/projects/sleep_analysis_py/physical_data/Physical_Activity')"
   ]
  },
  {
   "cell_type": "code",
   "execution_count": 303,
   "id": "c00554db",
   "metadata": {},
   "outputs": [
    {
     "data": {
      "text/html": [
       "<div>\n",
       "<style scoped>\n",
       "    .dataframe tbody tr th:only-of-type {\n",
       "        vertical-align: middle;\n",
       "    }\n",
       "\n",
       "    .dataframe tbody tr th {\n",
       "        vertical-align: top;\n",
       "    }\n",
       "\n",
       "    .dataframe thead th {\n",
       "        text-align: right;\n",
       "    }\n",
       "</style>\n",
       "<table border=\"1\" class=\"dataframe\">\n",
       "  <thead>\n",
       "    <tr style=\"text-align: right;\">\n",
       "      <th></th>\n",
       "      <th>dateTime</th>\n",
       "      <th>value</th>\n",
       "    </tr>\n",
       "  </thead>\n",
       "  <tbody>\n",
       "    <tr>\n",
       "      <th>0</th>\n",
       "      <td>2019-05-09 07:00:00</td>\n",
       "      <td>0</td>\n",
       "    </tr>\n",
       "    <tr>\n",
       "      <th>1</th>\n",
       "      <td>2019-05-09 07:01:00</td>\n",
       "      <td>0</td>\n",
       "    </tr>\n",
       "  </tbody>\n",
       "</table>\n",
       "</div>"
      ],
      "text/plain": [
       "             dateTime  value\n",
       "0 2019-05-09 07:00:00      0\n",
       "1 2019-05-09 07:01:00      0"
      ]
     },
     "execution_count": 303,
     "metadata": {},
     "output_type": "execute_result"
    }
   ],
   "source": [
    "step_detail.head(2)"
   ]
  },
  {
   "cell_type": "code",
   "execution_count": 290,
   "id": "793f0ff7",
   "metadata": {},
   "outputs": [
    {
     "name": "stdout",
     "output_type": "stream",
     "text": [
      "<class 'pandas.core.frame.DataFrame'>\n",
      "Int64Index: 1968017 entries, 0 to 15363\n",
      "Data columns (total 2 columns):\n",
      " #   Column    Dtype         \n",
      "---  ------    -----         \n",
      " 0   dateTime  datetime64[ns]\n",
      " 1   value     int64         \n",
      "dtypes: datetime64[ns](1), int64(1)\n",
      "memory usage: 45.0 MB\n"
     ]
    }
   ],
   "source": [
    "step_detail.info()"
   ]
  },
  {
   "cell_type": "code",
   "execution_count": 117,
   "id": "f76c5aa8",
   "metadata": {},
   "outputs": [
    {
     "data": {
      "text/html": [
       "<div>\n",
       "<style scoped>\n",
       "    .dataframe tbody tr th:only-of-type {\n",
       "        vertical-align: middle;\n",
       "    }\n",
       "\n",
       "    .dataframe tbody tr th {\n",
       "        vertical-align: top;\n",
       "    }\n",
       "\n",
       "    .dataframe thead th {\n",
       "        text-align: right;\n",
       "    }\n",
       "</style>\n",
       "<table border=\"1\" class=\"dataframe\">\n",
       "  <thead>\n",
       "    <tr style=\"text-align: right;\">\n",
       "      <th></th>\n",
       "      <th>dateTime</th>\n",
       "      <th>value</th>\n",
       "    </tr>\n",
       "  </thead>\n",
       "  <tbody>\n",
       "    <tr>\n",
       "      <th>2</th>\n",
       "      <td>2017-09-16 11:24:00</td>\n",
       "      <td>16</td>\n",
       "    </tr>\n",
       "    <tr>\n",
       "      <th>15</th>\n",
       "      <td>2017-09-16 11:37:00</td>\n",
       "      <td>41</td>\n",
       "    </tr>\n",
       "    <tr>\n",
       "      <th>21</th>\n",
       "      <td>2017-09-16 11:43:00</td>\n",
       "      <td>8</td>\n",
       "    </tr>\n",
       "    <tr>\n",
       "      <th>22</th>\n",
       "      <td>2017-09-16 11:44:00</td>\n",
       "      <td>2</td>\n",
       "    </tr>\n",
       "    <tr>\n",
       "      <th>28</th>\n",
       "      <td>2017-09-16 11:50:00</td>\n",
       "      <td>6</td>\n",
       "    </tr>\n",
       "    <tr>\n",
       "      <th>...</th>\n",
       "      <td>...</td>\n",
       "      <td>...</td>\n",
       "    </tr>\n",
       "    <tr>\n",
       "      <th>39133</th>\n",
       "      <td>2017-11-15 03:08:00</td>\n",
       "      <td>31</td>\n",
       "    </tr>\n",
       "    <tr>\n",
       "      <th>39140</th>\n",
       "      <td>2017-11-15 03:15:00</td>\n",
       "      <td>4</td>\n",
       "    </tr>\n",
       "    <tr>\n",
       "      <th>39145</th>\n",
       "      <td>2017-11-15 03:20:00</td>\n",
       "      <td>7</td>\n",
       "    </tr>\n",
       "    <tr>\n",
       "      <th>39159</th>\n",
       "      <td>2017-11-15 03:34:00</td>\n",
       "      <td>14</td>\n",
       "    </tr>\n",
       "    <tr>\n",
       "      <th>39177</th>\n",
       "      <td>2017-11-15 03:52:00</td>\n",
       "      <td>6</td>\n",
       "    </tr>\n",
       "  </tbody>\n",
       "</table>\n",
       "<p>11777 rows × 2 columns</p>\n",
       "</div>"
      ],
      "text/plain": [
       "                 dateTime  value\n",
       "2     2017-09-16 11:24:00     16\n",
       "15    2017-09-16 11:37:00     41\n",
       "21    2017-09-16 11:43:00      8\n",
       "22    2017-09-16 11:44:00      2\n",
       "28    2017-09-16 11:50:00      6\n",
       "...                   ...    ...\n",
       "39133 2017-11-15 03:08:00     31\n",
       "39140 2017-11-15 03:15:00      4\n",
       "39145 2017-11-15 03:20:00      7\n",
       "39159 2017-11-15 03:34:00     14\n",
       "39177 2017-11-15 03:52:00      6\n",
       "\n",
       "[11777 rows x 2 columns]"
      ]
     },
     "execution_count": 117,
     "metadata": {},
     "output_type": "execute_result"
    }
   ],
   "source": [
    "step_detail.loc[step_detail['value'] != 0]"
   ]
  },
  {
   "cell_type": "code",
   "execution_count": 319,
   "id": "c6562096",
   "metadata": {},
   "outputs": [],
   "source": [
    "test = step_detail.groupby([step_detail['dateTime'].dt.date]).sum()"
   ]
  },
  {
   "cell_type": "code",
   "execution_count": 322,
   "id": "c1086a41",
   "metadata": {
    "scrolled": true
   },
   "outputs": [
    {
     "name": "stdout",
     "output_type": "stream",
     "text": [
      "<class 'pandas.core.frame.DataFrame'>\n",
      "Index: 1893 entries, 2017-07-19 to 2022-12-22\n",
      "Data columns (total 1 columns):\n",
      " #   Column  Non-Null Count  Dtype\n",
      "---  ------  --------------  -----\n",
      " 0   value   1893 non-null   int64\n",
      "dtypes: int64(1)\n",
      "memory usage: 29.6+ KB\n"
     ]
    }
   ],
   "source": [
    "test.info()"
   ]
  },
  {
   "cell_type": "code",
   "execution_count": 321,
   "id": "67a716c1",
   "metadata": {},
   "outputs": [
    {
     "ename": "KeyError",
     "evalue": "'dateTime'",
     "output_type": "error",
     "traceback": [
      "\u001b[0;31m---------------------------------------------------------------------------\u001b[0m",
      "\u001b[0;31mKeyError\u001b[0m                                  Traceback (most recent call last)",
      "\u001b[0;32m~/opt/anaconda3/lib/python3.9/site-packages/pandas/core/indexes/base.py\u001b[0m in \u001b[0;36mget_loc\u001b[0;34m(self, key, method, tolerance)\u001b[0m\n\u001b[1;32m   3628\u001b[0m             \u001b[0;32mtry\u001b[0m\u001b[0;34m:\u001b[0m\u001b[0;34m\u001b[0m\u001b[0;34m\u001b[0m\u001b[0m\n\u001b[0;32m-> 3629\u001b[0;31m                 \u001b[0;32mreturn\u001b[0m \u001b[0mself\u001b[0m\u001b[0;34m.\u001b[0m\u001b[0m_engine\u001b[0m\u001b[0;34m.\u001b[0m\u001b[0mget_loc\u001b[0m\u001b[0;34m(\u001b[0m\u001b[0mcasted_key\u001b[0m\u001b[0;34m)\u001b[0m\u001b[0;34m\u001b[0m\u001b[0;34m\u001b[0m\u001b[0m\n\u001b[0m\u001b[1;32m   3630\u001b[0m             \u001b[0;32mexcept\u001b[0m \u001b[0mKeyError\u001b[0m \u001b[0;32mas\u001b[0m \u001b[0merr\u001b[0m\u001b[0;34m:\u001b[0m\u001b[0;34m\u001b[0m\u001b[0;34m\u001b[0m\u001b[0m\n",
      "\u001b[0;32m~/opt/anaconda3/lib/python3.9/site-packages/pandas/_libs/index.pyx\u001b[0m in \u001b[0;36mpandas._libs.index.IndexEngine.get_loc\u001b[0;34m()\u001b[0m\n",
      "\u001b[0;32m~/opt/anaconda3/lib/python3.9/site-packages/pandas/_libs/index.pyx\u001b[0m in \u001b[0;36mpandas._libs.index.IndexEngine.get_loc\u001b[0;34m()\u001b[0m\n",
      "\u001b[0;32mpandas/_libs/hashtable_class_helper.pxi\u001b[0m in \u001b[0;36mpandas._libs.hashtable.PyObjectHashTable.get_item\u001b[0;34m()\u001b[0m\n",
      "\u001b[0;32mpandas/_libs/hashtable_class_helper.pxi\u001b[0m in \u001b[0;36mpandas._libs.hashtable.PyObjectHashTable.get_item\u001b[0;34m()\u001b[0m\n",
      "\u001b[0;31mKeyError\u001b[0m: 'dateTime'",
      "\nThe above exception was the direct cause of the following exception:\n",
      "\u001b[0;31mKeyError\u001b[0m                                  Traceback (most recent call last)",
      "\u001b[0;32m/var/folders/ht/2t39cbf50rz_bdhb3z_b95vm0000gn/T/ipykernel_29079/1256444493.py\u001b[0m in \u001b[0;36m<module>\u001b[0;34m\u001b[0m\n\u001b[0;32m----> 1\u001b[0;31m \u001b[0mtest\u001b[0m\u001b[0;34m[\u001b[0m\u001b[0;34m'dateTime'\u001b[0m\u001b[0;34m]\u001b[0m\u001b[0;34m\u001b[0m\u001b[0;34m\u001b[0m\u001b[0m\n\u001b[0m",
      "\u001b[0;32m~/opt/anaconda3/lib/python3.9/site-packages/pandas/core/frame.py\u001b[0m in \u001b[0;36m__getitem__\u001b[0;34m(self, key)\u001b[0m\n\u001b[1;32m   3503\u001b[0m             \u001b[0;32mif\u001b[0m \u001b[0mself\u001b[0m\u001b[0;34m.\u001b[0m\u001b[0mcolumns\u001b[0m\u001b[0;34m.\u001b[0m\u001b[0mnlevels\u001b[0m \u001b[0;34m>\u001b[0m \u001b[0;36m1\u001b[0m\u001b[0;34m:\u001b[0m\u001b[0;34m\u001b[0m\u001b[0;34m\u001b[0m\u001b[0m\n\u001b[1;32m   3504\u001b[0m                 \u001b[0;32mreturn\u001b[0m \u001b[0mself\u001b[0m\u001b[0;34m.\u001b[0m\u001b[0m_getitem_multilevel\u001b[0m\u001b[0;34m(\u001b[0m\u001b[0mkey\u001b[0m\u001b[0;34m)\u001b[0m\u001b[0;34m\u001b[0m\u001b[0;34m\u001b[0m\u001b[0m\n\u001b[0;32m-> 3505\u001b[0;31m             \u001b[0mindexer\u001b[0m \u001b[0;34m=\u001b[0m \u001b[0mself\u001b[0m\u001b[0;34m.\u001b[0m\u001b[0mcolumns\u001b[0m\u001b[0;34m.\u001b[0m\u001b[0mget_loc\u001b[0m\u001b[0;34m(\u001b[0m\u001b[0mkey\u001b[0m\u001b[0;34m)\u001b[0m\u001b[0;34m\u001b[0m\u001b[0;34m\u001b[0m\u001b[0m\n\u001b[0m\u001b[1;32m   3506\u001b[0m             \u001b[0;32mif\u001b[0m \u001b[0mis_integer\u001b[0m\u001b[0;34m(\u001b[0m\u001b[0mindexer\u001b[0m\u001b[0;34m)\u001b[0m\u001b[0;34m:\u001b[0m\u001b[0;34m\u001b[0m\u001b[0;34m\u001b[0m\u001b[0m\n\u001b[1;32m   3507\u001b[0m                 \u001b[0mindexer\u001b[0m \u001b[0;34m=\u001b[0m \u001b[0;34m[\u001b[0m\u001b[0mindexer\u001b[0m\u001b[0;34m]\u001b[0m\u001b[0;34m\u001b[0m\u001b[0;34m\u001b[0m\u001b[0m\n",
      "\u001b[0;32m~/opt/anaconda3/lib/python3.9/site-packages/pandas/core/indexes/base.py\u001b[0m in \u001b[0;36mget_loc\u001b[0;34m(self, key, method, tolerance)\u001b[0m\n\u001b[1;32m   3629\u001b[0m                 \u001b[0;32mreturn\u001b[0m \u001b[0mself\u001b[0m\u001b[0;34m.\u001b[0m\u001b[0m_engine\u001b[0m\u001b[0;34m.\u001b[0m\u001b[0mget_loc\u001b[0m\u001b[0;34m(\u001b[0m\u001b[0mcasted_key\u001b[0m\u001b[0;34m)\u001b[0m\u001b[0;34m\u001b[0m\u001b[0;34m\u001b[0m\u001b[0m\n\u001b[1;32m   3630\u001b[0m             \u001b[0;32mexcept\u001b[0m \u001b[0mKeyError\u001b[0m \u001b[0;32mas\u001b[0m \u001b[0merr\u001b[0m\u001b[0;34m:\u001b[0m\u001b[0;34m\u001b[0m\u001b[0;34m\u001b[0m\u001b[0m\n\u001b[0;32m-> 3631\u001b[0;31m                 \u001b[0;32mraise\u001b[0m \u001b[0mKeyError\u001b[0m\u001b[0;34m(\u001b[0m\u001b[0mkey\u001b[0m\u001b[0;34m)\u001b[0m \u001b[0;32mfrom\u001b[0m \u001b[0merr\u001b[0m\u001b[0;34m\u001b[0m\u001b[0;34m\u001b[0m\u001b[0m\n\u001b[0m\u001b[1;32m   3632\u001b[0m             \u001b[0;32mexcept\u001b[0m \u001b[0mTypeError\u001b[0m\u001b[0;34m:\u001b[0m\u001b[0;34m\u001b[0m\u001b[0;34m\u001b[0m\u001b[0m\n\u001b[1;32m   3633\u001b[0m                 \u001b[0;31m# If we have a listlike key, _check_indexing_error will raise\u001b[0m\u001b[0;34m\u001b[0m\u001b[0;34m\u001b[0m\u001b[0m\n",
      "\u001b[0;31mKeyError\u001b[0m: 'dateTime'"
     ]
    }
   ],
   "source": [
    "test['dateTime']"
   ]
  },
  {
   "cell_type": "markdown",
   "id": "6bf5c207",
   "metadata": {},
   "source": [
    "### ACTIVITY MINUTES"
   ]
  },
  {
   "cell_type": "code",
   "execution_count": 298,
   "id": "95013297",
   "metadata": {
    "scrolled": true
   },
   "outputs": [],
   "source": [
    "# Importing activity minutes \n",
    "\n",
    "sedentary_minutes = import_data_from_dir('sedentary_minutes', '/Users/jackiekinsler/projects/sleep_analysis_py/physical_data/Physical_Activity')\n",
    "lightly_active = import_data_from_dir('lightly_active', '/Users/jackiekinsler/projects/sleep_analysis_py/physical_data/Physical_Activity')\n",
    "moderately_active = import_data_from_dir('moderately_active', '/Users/jackiekinsler/projects/sleep_analysis_py/physical_data/Physical_Activity')\n",
    "very_active = import_data_from_dir('very_active_minutes', '/Users/jackiekinsler/projects/sleep_analysis_py/physical_data/Physical_Activity')\n",
    "\n",
    "# Sort ascending by date\n",
    "sedentary_minutes.sort_values(by='dateTime', inplace=True)\n",
    "lightly_active.sort_values(by='dateTime', inplace=True)\n",
    "moderately_active.sort_values(by='dateTime', inplace=True)\n",
    "very_active.sort_values(by='dateTime', inplace=True)\n",
    "\n",
    "# Pickle the data for future use \n",
    "sedentary_minutes.to_pickle(\"sedentary_minutes.pkl\")\n",
    "lightly_active.to_pickle(\"lightly_active.pkl\")\n",
    "moderately_active.to_pickle(\"moderately_active.pkl\")\n",
    "very_active.to_pickle(\"very_active.pkl\")"
   ]
  },
  {
   "cell_type": "code",
   "execution_count": 299,
   "id": "3abbc710",
   "metadata": {},
   "outputs": [
    {
     "data": {
      "text/html": [
       "<div>\n",
       "<style scoped>\n",
       "    .dataframe tbody tr th:only-of-type {\n",
       "        vertical-align: middle;\n",
       "    }\n",
       "\n",
       "    .dataframe tbody tr th {\n",
       "        vertical-align: top;\n",
       "    }\n",
       "\n",
       "    .dataframe thead th {\n",
       "        text-align: right;\n",
       "    }\n",
       "</style>\n",
       "<table border=\"1\" class=\"dataframe\">\n",
       "  <thead>\n",
       "    <tr style=\"text-align: right;\">\n",
       "      <th></th>\n",
       "      <th>dateTime</th>\n",
       "      <th>value</th>\n",
       "    </tr>\n",
       "  </thead>\n",
       "  <tbody>\n",
       "    <tr>\n",
       "      <th>0</th>\n",
       "      <td>2017-07-18</td>\n",
       "      <td>0</td>\n",
       "    </tr>\n",
       "    <tr>\n",
       "      <th>1</th>\n",
       "      <td>2017-07-19</td>\n",
       "      <td>0</td>\n",
       "    </tr>\n",
       "  </tbody>\n",
       "</table>\n",
       "</div>"
      ],
      "text/plain": [
       "    dateTime  value\n",
       "0 2017-07-18      0\n",
       "1 2017-07-19      0"
      ]
     },
     "execution_count": 299,
     "metadata": {},
     "output_type": "execute_result"
    }
   ],
   "source": [
    "very_active.head(2)"
   ]
  },
  {
   "cell_type": "markdown",
   "id": "1138fc19",
   "metadata": {},
   "source": [
    "### RESTING HEARTRATE"
   ]
  },
  {
   "cell_type": "code",
   "execution_count": 300,
   "id": "73955d58",
   "metadata": {
    "scrolled": false
   },
   "outputs": [],
   "source": [
    "# Importing resting heartrate data \n",
    "resting_heartrate_nested = import_data_from_dir('resting_heart_rate', '/Users/jackiekinsler/projects/sleep_analysis_py/physical_data/Physical_Activity')\n",
    "# The data in this dataframe is nested, and only the last column ('value') has the needed data \n",
    "resting_heartrate = pd.json_normalize(resting_heartrate_nested['value'])\n",
    "# 'date' comes in as a string, convert it to datetime \n",
    "resting_heartrate['date'] = pd.to_datetime(resting_heartrate['date'])\n",
    "resting_heartrate.sort_values(by='date', inplace=True)\n",
    "resting_heartrate.to_pickle(\"very_active.pkl\")"
   ]
  },
  {
   "cell_type": "code",
   "execution_count": 301,
   "id": "776f440c",
   "metadata": {},
   "outputs": [
    {
     "data": {
      "text/html": [
       "<div>\n",
       "<style scoped>\n",
       "    .dataframe tbody tr th:only-of-type {\n",
       "        vertical-align: middle;\n",
       "    }\n",
       "\n",
       "    .dataframe tbody tr th {\n",
       "        vertical-align: top;\n",
       "    }\n",
       "\n",
       "    .dataframe thead th {\n",
       "        text-align: right;\n",
       "    }\n",
       "</style>\n",
       "<table border=\"1\" class=\"dataframe\">\n",
       "  <thead>\n",
       "    <tr style=\"text-align: right;\">\n",
       "      <th></th>\n",
       "      <th>date</th>\n",
       "      <th>value</th>\n",
       "      <th>error</th>\n",
       "    </tr>\n",
       "  </thead>\n",
       "  <tbody>\n",
       "    <tr>\n",
       "      <th>1097</th>\n",
       "      <td>2017-07-20</td>\n",
       "      <td>56.000000</td>\n",
       "      <td>100.000000</td>\n",
       "    </tr>\n",
       "    <tr>\n",
       "      <th>1098</th>\n",
       "      <td>2017-07-21</td>\n",
       "      <td>55.524886</td>\n",
       "      <td>55.113122</td>\n",
       "    </tr>\n",
       "  </tbody>\n",
       "</table>\n",
       "</div>"
      ],
      "text/plain": [
       "           date      value       error\n",
       "1097 2017-07-20  56.000000  100.000000\n",
       "1098 2017-07-21  55.524886   55.113122"
      ]
     },
     "execution_count": 301,
     "metadata": {},
     "output_type": "execute_result"
    }
   ],
   "source": [
    "resting_heartrate.head(2)"
   ]
  }
 ],
 "metadata": {
  "kernelspec": {
   "display_name": "Python 3 (ipykernel)",
   "language": "python",
   "name": "python3"
  },
  "language_info": {
   "codemirror_mode": {
    "name": "ipython",
    "version": 3
   },
   "file_extension": ".py",
   "mimetype": "text/x-python",
   "name": "python",
   "nbconvert_exporter": "python",
   "pygments_lexer": "ipython3",
   "version": "3.9.13"
  }
 },
 "nbformat": 4,
 "nbformat_minor": 5
}
