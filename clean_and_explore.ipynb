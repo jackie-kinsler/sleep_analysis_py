{
 "cells": [
  {
   "cell_type": "markdown",
   "id": "c023361a",
   "metadata": {},
   "source": [
    "Explore thru graphs and clean the data. \n",
    "All resulting data will end up in `cleaned_data/` "
   ]
  },
  {
   "cell_type": "markdown",
   "id": "c5dadfc9",
   "metadata": {},
   "source": [
    "Outliers: \n",
    "1) Plot all of the data and identify outliers.  \n",
    "2) Understand where outliers are coming from.  \n",
    "3) Remove outliers if applicable. \n",
    "\n",
    "Other cleaning operations: \n",
    "- (done) rename all the indices to 'date' \n",
    "- (done) ensure column headers are meaningful (useful for merging later) \n",
    "- (done) ensure all the indices are indeed 'DatetimeIndex'\n",
    "- (done) ensure no duplicates on the index \n",
    "- (done) get all the indices sorted by date\n",
    "- (done) handle any NaN values -- there were none \n",
    "\n",
    "All of the data will start from the `data/` folder, and will end up in the `cleaned_data/` folder. "
   ]
  },
  {
   "cell_type": "code",
   "execution_count": 1,
   "id": "05c86c0c",
   "metadata": {},
   "outputs": [],
   "source": [
    "import os\n",
    "import pandas as pd\n",
    "import numpy as np \n",
    "import matplotlib.pyplot as plt\n",
    "import datetime as dt "
   ]
  },
  {
   "cell_type": "code",
   "execution_count": 2,
   "id": "01470cea",
   "metadata": {},
   "outputs": [],
   "source": [
    "sleep_score_orig = pd.read_pickle('data/sleep_score.pkl')\n",
    "sleep_detail_orig = pd.read_pickle('data/sleep_detail.pkl')\n",
    "\n",
    "lightly_active_orig = pd.read_pickle('data/lightly_active.pkl')\n",
    "moderately_active_orig = pd.read_pickle('data/moderately_active.pkl')\n",
    "very_active_orig = pd.read_pickle('data/very_active.pkl')\n",
    "sedentary_minutes_orig = pd.read_pickle('data/sedentary_minutes.pkl')\n",
    "\n",
    "step_daily_orig = pd.read_pickle('data/step_daily.pkl')\n",
    "\n",
    "bpm_orig = pd.read_pickle('data/bpm.pkl')\n",
    "resting_heartrate_orig = pd.read_pickle('data/resting_heartrate.pkl')"
   ]
  },
  {
   "cell_type": "code",
   "execution_count": 15,
   "id": "7778c8bf",
   "metadata": {},
   "outputs": [],
   "source": [
    "dfs = [\n",
    "    sleep_score_orig, \n",
    "    sleep_detail_orig, \n",
    "    lightly_active_orig,\n",
    "    moderately_active_orig,\n",
    "    very_active_orig,\n",
    "    sedentary_minutes_orig,\n",
    "    step_daily_orig,\n",
    "    bpm_orig,\n",
    "    resting_heartrate_orig,\n",
    "]"
   ]
  },
  {
   "cell_type": "markdown",
   "id": "3cb601cd",
   "metadata": {},
   "source": [
    "#### Quick cleaning of the indices \n",
    "1) Ensure all the indices are named 'date' (for ease of merging later)   \n",
    "2) Sort all of the data by date   \n",
    "3) Ensure all the indices are of DatetimeIndex format  \n",
    "4) Ensure all the index values are unique  "
   ]
  },
  {
   "cell_type": "code",
   "execution_count": 45,
   "id": "cefa2a9d",
   "metadata": {},
   "outputs": [],
   "source": [
    "# Nothing will print if all checks pass \n",
    "for df in dfs: \n",
    "    df.index.name = 'date'\n",
    "    df.sort_index(inplace=True)    \n",
    "    if not isinstance(df.index, pd.DatetimeIndex):\n",
    "        print (f'{df.head(1)} does not have DatetimeIndex')\n",
    "    if not df.index.is_unique:\n",
    "        print(f'{df.head(1)} does not have unique index')\n"
   ]
  },
  {
   "cell_type": "markdown",
   "id": "01954523",
   "metadata": {},
   "source": [
    "#### Check for any NaN values "
   ]
  },
  {
   "cell_type": "code",
   "execution_count": 46,
   "id": "dc2c5813",
   "metadata": {},
   "outputs": [],
   "source": [
    "# Nothing should print if there are no null values \n",
    "for df in dfs: \n",
    "    if df.isnull().values.any():\n",
    "        print(f'{df.head(1)} has NaN values')"
   ]
  },
  {
   "cell_type": "markdown",
   "id": "a614fb55",
   "metadata": {},
   "source": [
    "#### Give the data columns meaningful names \n",
    "This will be particularly useful later when merging and plotting the data. "
   ]
  },
  {
   "cell_type": "code",
   "execution_count": 84,
   "id": "b12afecd",
   "metadata": {
    "scrolled": true
   },
   "outputs": [],
   "source": [
    "# Many tables have column names that are not very meaningful. Let's fix that.  \n",
    "sleep_score_orig.rename(columns={'overall_score':'overall_sleep_score'}, inplace=True)\n",
    "lightly_active_orig.rename(columns={'value':'light_act_mins'}, inplace=True)\n",
    "moderately_active_orig.rename(columns={'value':'moderate_act_mins'}, inplace=True)\n",
    "very_active_orig.rename(columns={'value':'very_act_mins'}, inplace=True)\n",
    "sedentary_minutes_orig.rename(columns={'value':'sedentary_mins'}, inplace=True)\n",
    "step_daily_orig.rename(columns={'value':'daily_steps'}, inplace=True)\n",
    "bpm_orig.rename(columns={'max':'bpm_max', 'mean':'bpm_mean'}, inplace=True)\n",
    "resting_heartrate_orig.rename(columns={'value':'resting_hr', 'error':'rest_hr_error'}, inplace=True)"
   ]
  },
  {
   "cell_type": "markdown",
   "id": "8691139b",
   "metadata": {},
   "source": [
    "#### Explore the data graphically \n",
    "Look for outliers / anything suspicious "
   ]
  },
  {
   "cell_type": "code",
   "execution_count": null,
   "id": "14fbd952",
   "metadata": {},
   "outputs": [],
   "source": [
    "sleep_score_orig, \n",
    "sleep_detail_orig, \n",
    "lightly_active_orig,\n",
    "moderately_active_orig,\n",
    "very_active_orig,\n",
    "sedentary_minutes_orig,\n",
    "step_daily_orig,\n",
    "bpm_orig,\n",
    "resting_heartrate_orig,\n"
   ]
  },
  {
   "cell_type": "code",
   "execution_count": null,
   "id": "8b92becc",
   "metadata": {},
   "outputs": [],
   "source": []
  },
  {
   "cell_type": "code",
   "execution_count": null,
   "id": "611ea532",
   "metadata": {},
   "outputs": [],
   "source": [
    "step_daily = step_daily[step_daily['value'] < 50000]"
   ]
  },
  {
   "cell_type": "code",
   "execution_count": null,
   "id": "e1000f60",
   "metadata": {},
   "outputs": [],
   "source": [
    "def date_index_check(dataframe):\n",
    "    if not isinstance(dataframe.index, pd.DatetimeIndex):\n",
    "        return False "
   ]
  },
  {
   "cell_type": "code",
   "execution_count": null,
   "id": "494686b2",
   "metadata": {},
   "outputs": [],
   "source": [
    "dfs = [\n",
    "    bpm, \n",
    "    sleep_detail, \n",
    "    sleep_score, \n",
    "    sedentary_minutes, \n",
    "    lightly_active, \n",
    "    moderately_active, \n",
    "    very_active, \n",
    "    resting_heartrate, \n",
    "    df\n",
    "]"
   ]
  },
  {
   "cell_type": "code",
   "execution_count": null,
   "id": "e62cfc71",
   "metadata": {},
   "outputs": [],
   "source": [
    "for df in dfs: \n",
    "    if isinstance(df.index, pd.DatetimeIndex) == False: \n",
    "        print(f'{df.head(1)} does not have datetimeIndex')"
   ]
  },
  {
   "cell_type": "code",
   "execution_count": null,
   "id": "1cdf3bd8",
   "metadata": {},
   "outputs": [],
   "source": [
    "for df in dfs: \n",
    "    df.sort_index()"
   ]
  },
  {
   "cell_type": "markdown",
   "id": "271fb7bb",
   "metadata": {},
   "source": [
    "A bit of cleaning... \n",
    "After plotting the daily steps I noticed some major outliers. Let's filter for those values and drop them. \n",
    "\n",
    "No day should have more than 60,000 steps. "
   ]
  }
 ],
 "metadata": {
  "kernelspec": {
   "display_name": "Python 3 (ipykernel)",
   "language": "python",
   "name": "python3"
  },
  "language_info": {
   "codemirror_mode": {
    "name": "ipython",
    "version": 3
   },
   "file_extension": ".py",
   "mimetype": "text/x-python",
   "name": "python",
   "nbconvert_exporter": "python",
   "pygments_lexer": "ipython3",
   "version": "3.9.13"
  }
 },
 "nbformat": 4,
 "nbformat_minor": 5
}
